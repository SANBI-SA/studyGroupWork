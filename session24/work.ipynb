{
 "cells": [
  {
   "cell_type": "code",
   "execution_count": 5,
   "metadata": {},
   "outputs": [
    {
     "name": "stdout",
     "output_type": "stream",
     "text": [
      "Length: 42 (Trimmed) sequence: TCGATCGATCGATCGATCGATCGATCGATCGATCGATCGATC\n",
      "Length: 37 (Trimmed) sequence: ACTGATCGATCGATCGATCGATCGATGCTATCGTCGT\n",
      "Length: 48 (Trimmed) sequence: ATCGATCACGATCTATCGTACGTATGCATATCGATATCGATCGTAGTC\n",
      "Length: 33 (Trimmed) sequence: ACTATCGATGATCTAGCTACGATCGTAGCTGTA\n",
      "Length: 47 (Trimmed) sequence: ACTAGCTAGTCTCGATGCATGATCAGCTTAGCTGATGATGCTATGCA\n"
     ]
    }
   ],
   "source": [
    "input_file = open('../data/p4b_lists_and_loops/input.txt')\n",
    "adapter = 'ATTCGATTATAAGC'\n",
    "for line in input_file:\n",
    "    dna = line.strip()\n",
    "    # based on the exercise I know the adapter is the first 14 characters. based on\n",
    "    # looking at the file I noticed those bases are ATTCGATTATAAGC (put in the adapter variable above)\n",
    "    # the assert checks that the dna string starts with this adapter and will exit with\n",
    "    # an exception if the dna does not start with the expected adapter sequence\n",
    "    assert dna.startswith(adapter), \"Expected the line to start with {}\".format(adapter)\n",
    "    trimmed_dna = dna[14:]\n",
    "    print(\"Length:\", len(trimmed_dna), \"(Trimmed) sequence:\", trimmed_dna)"
   ]
  },
  {
   "cell_type": "code",
   "execution_count": 8,
   "metadata": {},
   "outputs": [
    {
     "name": "stdout",
     "output_type": "stream",
     "text": [
      "5,58\n",
      "72,133\n",
      "190,276\n",
      "340,398\n",
      "\n",
      "TCGATCGTACCGTCGACGATGCTACGATCGTCGATCGTAGTCGATCATCGATCGATCGACTGATCGATCGATCGATCGATCGATATCGATCGATATCATCGATGCATCGATCATCGATCGATCGATCGATCGATCGATCATATGTCAGTCGATGCATCGTAGCATCGTATAGTAGCTACGTAGCTACGATCGATCGATCGATCGTAGCTAGCTAGCTAGATCGATCATCATCGTAGCTAGCTCGACTAGCTACGTACGATCGATGCATCGATCGTAGCTAGTACGATCGCGTAGCTAGCATGCTACGTAGATCGATCGATGCATGCTAGCTAGCTAGCTACGATCGATCGATCGATCGATCGATCGATCGATCGATCGATCGTAGCTAGCTACGATCGATGCTACGTAGATCGATCGCTAGTAGATCGATCGCTAGCTAGCTGACTAGTACGCTGCTAGTAGTCAGCTAGATCGATGCTAGTCA\n"
     ]
    }
   ],
   "source": [
    "exon_file = open('../data/p4b_lists_and_loops/exons.txt')\n",
    "for line in exon_file:\n",
    "    print(line, end='')\n",
    "\n",
    "print()\n",
    "genomic_dna_file = open('../data/p4b_lists_and_loops/genomic_dna.txt')\n",
    "for line in genomic_dna_file:\n",
    "    print(line, end='')"
   ]
  },
  {
   "cell_type": "code",
   "execution_count": 11,
   "metadata": {},
   "outputs": [
    {
     "name": "stdout",
     "output_type": "stream",
     "text": [
      "CGTACCGTCGACGATGCTACGATCGTCGATCGTAGTCGATCATCGATCGATCGCGATCGATCGATATCGATCGATATCATCGATGCATCGATCATCGATCGATCGATCGATCGACGATCGATCGATCGTAGCTAGCTAGCTAGATCGATCATCATCGTAGCTAGCTCGACTAGCTACGTACGATCGATGCATCGATCGTACGATCGATCGATCGATCGATCGATCGATCGATCGATCGATCGTAGCTAGCTACGATCG\n"
     ]
    }
   ],
   "source": [
    "genomic_dna = open('../data/p4b_lists_and_loops/genomic_dna.txt').read().strip()\n",
    "exon_file = open('../data/p4b_lists_and_loops/exons.txt')\n",
    "exon_dna = ''\n",
    "for line in exon_file:\n",
    "    fields = line.strip().split(',')\n",
    "    exon_start = int(fields[0])\n",
    "    exon_end = int(fields[1])\n",
    "    exon = genomic_dna[exon_start:exon_end]\n",
    "    exon_dna += exon\n",
    "print(exon_dna)\n",
    "output_filename = '../data/p4b_lists_and_loops/exon.txt'\n",
    "output_file = open(output_filename, 'w')\n",
    "print(exon_dna, file=output_file)"
   ]
  },
  {
   "cell_type": "code",
   "execution_count": null,
   "metadata": {},
   "outputs": [],
   "source": []
  }
 ],
 "metadata": {
  "kernelspec": {
   "display_name": "Python 3",
   "language": "python",
   "name": "python3"
  },
  "language_info": {
   "codemirror_mode": {
    "name": "ipython",
    "version": 3
   },
   "file_extension": ".py",
   "mimetype": "text/x-python",
   "name": "python",
   "nbconvert_exporter": "python",
   "pygments_lexer": "ipython3",
   "version": "3.6.5"
  }
 },
 "nbformat": 4,
 "nbformat_minor": 2
}

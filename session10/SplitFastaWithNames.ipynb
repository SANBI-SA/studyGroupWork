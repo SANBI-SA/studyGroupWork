{
 "cells": [
  {
   "cell_type": "code",
   "execution_count": null,
   "metadata": {
    "collapsed": true
   },
   "outputs": [],
   "source": [
    "count = 0\n",
    "buffer = ''\n",
    "inputfile = open('trimmed.fasta')\n",
    "index  = count + 1\n",
    "outputfile = open('outputfile{}.fasta'.format(index), 'w')\n",
    "for line in inputfile:\n",
    "    if line.startswith('>'):\n",
    "        if len(buffer) > 0:\n",
    "            outputfile.write(buffer)\n",
    "            outputfile.close()\n",
    "            index = count + 1\n",
    "            outputfile = open('outputfile{}.fasta'.format(index), 'w')\n",
    "            buffer = ''\n",
    "            count = count + 1\n",
    "    buffer += line\n",
    "outputfile.write(buffer)\n",
    "outputfile.close()\n",
    "print(count)"
   ]
  },
  {
   "cell_type": "code",
   "execution_count": 23,
   "metadata": {
    "collapsed": true
   },
   "outputs": [],
   "source": [
    "# example of data\n",
    "# >@unitig_1847|quiver\n",
    "# TGATAGACTGCTATAAACTGAGTCTAAATGA\n",
    "#\n",
    "# annoying FASTA variant\n",
    "# > @unitig_1847|quiver\n",
    "# things to watch out for:\n",
    "# 1) we don't want >\n",
    "# 2) we don't want the description part\n",
    "# e.g. >@unitig_1987|quiver A Seabass sequence\n",
    "#   - we don't want the \"A Seabass sequence part\"\n",
    "# 3) we don't want any whitespace around the ID\n",
    "# 4) we don't want funky characters like |\n",
    "\n",
    "def line_to_id(line):\n",
    "    bare_line = line[1:]  # get rid of '>'\n",
    "    trimmed_line = bare_line.strip()  # remove whitespace at the ends of the line\n",
    "    parts = trimmed_line.split()  # split it into words\n",
    "    id_part = parts[0]  # the first part\n",
    "    clean_id = id_part.replace('|','_')  # replace | with _\n",
    "    return clean_id\n",
    "    \n",
    "def get_outputfile(output_prefix, id_str):\n",
    "    species = 'black_soldier_fly'\n",
    "    output_filename = '{}_{}_{}.fasta'.format(output_prefix, species, id_str)\n",
    "    output_file = open(output_filename, 'w')\n",
    "    return output_file\n",
    "\n",
    "def fastasplit(inputfilename, output_prefix):\n",
    "    count = 0\n",
    "    buffer = ''\n",
    "    inputfile = open(inputfilename)\n",
    "    index  = count + 1\n",
    "    for line in inputfile:\n",
    "        if line.startswith('>'):\n",
    "            current_id = line_to_id(line)\n",
    "            if len(buffer) > 0:\n",
    "                outputfile = get_outputfile(output_prefix, current_id)                \n",
    "                outputfile.write(buffer)\n",
    "                outputfile.close()\n",
    "                index = count + 1\n",
    "                buffer = ''\n",
    "                count = count + 1\n",
    "        buffer += line\n",
    "    outputfile = get_outputfile(output_prefix, current_id)    \n",
    "    outputfile.write(buffer)\n",
    "    outputfile.close()\n",
    "    print(count)"
   ]
  },
  {
   "cell_type": "code",
   "execution_count": 14,
   "metadata": {
    "collapsed": true
   },
   "outputs": [],
   "source": [
    "def line_to_id(line):\n",
    "    bare_line = line[1:]  # get rid of '>'\n",
    "    trimmed_line = bare_line.strip()  # remove whitespace at the ends of the line\n",
    "    parts = trimmed_line.split()  # split it into words\n",
    "    id_part = parts[0]  # the first part\n",
    "    clean_id = id_part.replace('|','_')  # replace | with _\n",
    "    return clean_id"
   ]
  },
  {
   "cell_type": "code",
   "execution_count": 5,
   "metadata": {
    "collapsed": false
   },
   "outputs": [
    {
     "name": "stdout",
     "output_type": "stream",
     "text": [
      "@unitig_1987_quiver\n"
     ]
    }
   ],
   "source": [
    "print(line_to_id('>@unitig_1987|quiver A Seabass sequence'))"
   ]
  },
  {
   "cell_type": "code",
   "execution_count": 6,
   "metadata": {
    "collapsed": false
   },
   "outputs": [
    {
     "name": "stdout",
     "output_type": "stream",
     "text": [
      "@unitig_1987_quiver\n"
     ]
    }
   ],
   "source": [
    "print(line_to_id('> @unitig_1987|quiver A Seabass sequence'))"
   ]
  },
  {
   "cell_type": "code",
   "execution_count": 7,
   "metadata": {
    "collapsed": false
   },
   "outputs": [
    {
     "name": "stdout",
     "output_type": "stream",
     "text": [
      "@unitig_1987_quiver\n"
     ]
    }
   ],
   "source": [
    "print(line_to_id('>@unitig_1987|quiver'))"
   ]
  },
  {
   "cell_type": "code",
   "execution_count": 15,
   "metadata": {
    "collapsed": false,
    "scrolled": true
   },
   "outputs": [],
   "source": [
    "# how to test that your code works\n",
    "assert line_to_id('> @unitig_1987|quiver A Seabass sequence') == '@unitig_1987_quiver', \"Line to id failed\""
   ]
  },
  {
   "cell_type": "code",
   "execution_count": 24,
   "metadata": {
    "collapsed": false
   },
   "outputs": [
    {
     "name": "stdout",
     "output_type": "stream",
     "text": [
      "42\n"
     ]
    }
   ],
   "source": [
    "fastasplit('../data/trimmed.fasta', '../tmp/out')"
   ]
  },
  {
   "cell_type": "code",
   "execution_count": null,
   "metadata": {
    "collapsed": true
   },
   "outputs": [],
   "source": []
  }
 ],
 "metadata": {
  "kernelspec": {
   "display_name": "Python [Root]",
   "language": "python",
   "name": "Python [Root]"
  },
  "language_info": {
   "codemirror_mode": {
    "name": "ipython",
    "version": 3
   },
   "file_extension": ".py",
   "mimetype": "text/x-python",
   "name": "python",
   "nbconvert_exporter": "python",
   "pygments_lexer": "ipython3",
   "version": "3.5.2"
  }
 },
 "nbformat": 4,
 "nbformat_minor": 2
}

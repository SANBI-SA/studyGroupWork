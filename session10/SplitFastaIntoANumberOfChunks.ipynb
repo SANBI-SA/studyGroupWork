{
 "cells": [
  {
   "cell_type": "code",
   "execution_count": 1,
   "metadata": {
    "collapsed": true
   },
   "outputs": [],
   "source": [
    "def count_sequences(filename):\n",
    "    count = 0\n",
    "    inputfile = open(filename)\n",
    "    for line in inputfile:\n",
    "        if line.startswith('>'):\n",
    "            count += 1\n",
    "    return count"
   ]
  },
  {
   "cell_type": "code",
   "execution_count": 5,
   "metadata": {
    "collapsed": false
   },
   "outputs": [],
   "source": [
    "# count was verified in the bash shell with this command (note the quotes)\n",
    "# grep -c '>' data/trimmed.fasta\n",
    "seq_count = count_sequences('../data/trimmed.fasta')\n",
    "assert seq_count == 43, \"bad count, expected 43, got {}\".format(seq_count)"
   ]
  },
  {
   "cell_type": "code",
   "execution_count": 14,
   "metadata": {
    "collapsed": true
   },
   "outputs": [],
   "source": [
    "def split_fasta(inputfilename, output_prefix, num_chunks=10):\n",
    "    count = 0\n",
    "    buffer = ''\n",
    "    inputfile = open(inputfilename)\n",
    "    index  = count + 1\n",
    "    output_destinations = []\n",
    "    for i in range(num_chunks):\n",
    "        output_filename = '{}{}.fasta'.format(output_prefix, i+1)\n",
    "        output_file = open(output_filename, 'w')\n",
    "        output_destinations.append(output_file)\n",
    "    for line in inputfile:\n",
    "        if line.startswith('>'):\n",
    "            if len(buffer) > 0:\n",
    "                destination_index = count % num_chunks\n",
    "                print(\"destination:\", destination_index)\n",
    "                output_file = output_destinations[destination_index]\n",
    "                output_file.write(buffer)\n",
    "                buffer = ''\n",
    "                count += 1\n",
    "        buffer += line\n",
    "    destination_index = count % num_chunks\n",
    "    output_file = output_destinations[destination_index]\n",
    "    output_file.write(buffer)\n",
    "    count += 1\n",
    "    print(\"final count:\", count)\n",
    "    \n",
    "    for output_file in output_destinations:\n",
    "        output_file.close()"
   ]
  },
  {
   "cell_type": "code",
   "execution_count": 15,
   "metadata": {
    "collapsed": false
   },
   "outputs": [
    {
     "name": "stdout",
     "output_type": "stream",
     "text": [
      "destination: 0\n",
      "destination: 1\n",
      "destination: 2\n",
      "destination: 3\n",
      "destination: 4\n",
      "destination: 0\n",
      "destination: 1\n",
      "destination: 2\n",
      "destination: 3\n",
      "destination: 4\n",
      "destination: 0\n",
      "destination: 1\n",
      "destination: 2\n",
      "destination: 3\n",
      "destination: 4\n",
      "destination: 0\n",
      "destination: 1\n",
      "destination: 2\n",
      "destination: 3\n",
      "destination: 4\n",
      "destination: 0\n",
      "destination: 1\n",
      "destination: 2\n",
      "destination: 3\n",
      "destination: 4\n",
      "destination: 0\n",
      "destination: 1\n",
      "destination: 2\n",
      "destination: 3\n",
      "destination: 4\n",
      "destination: 0\n",
      "destination: 1\n",
      "destination: 2\n",
      "destination: 3\n",
      "destination: 4\n",
      "destination: 0\n",
      "destination: 1\n",
      "destination: 2\n",
      "destination: 3\n",
      "destination: 4\n",
      "destination: 0\n",
      "destination: 1\n",
      "final count: 43\n"
     ]
    }
   ],
   "source": [
    "split_fasta('../data/trimmed.fasta', '../tmp/out', num_chunks=5)"
   ]
  },
  {
   "cell_type": "code",
   "execution_count": null,
   "metadata": {
    "collapsed": true
   },
   "outputs": [],
   "source": []
  }
 ],
 "metadata": {
  "kernelspec": {
   "display_name": "Python [Root]",
   "language": "python",
   "name": "Python [Root]"
  },
  "language_info": {
   "codemirror_mode": {
    "name": "ipython",
    "version": 3
   },
   "file_extension": ".py",
   "mimetype": "text/x-python",
   "name": "python",
   "nbconvert_exporter": "python",
   "pygments_lexer": "ipython3",
   "version": "3.5.2"
  }
 },
 "nbformat": 4,
 "nbformat_minor": 2
}

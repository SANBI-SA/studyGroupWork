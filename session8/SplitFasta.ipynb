{
 "cells": [
  {
   "cell_type": "code",
   "execution_count": 1,
   "metadata": {
    "collapsed": true
   },
   "outputs": [],
   "source": [
    "inputfile = open('trimmed.fasta')"
   ]
  },
  {
   "cell_type": "code",
   "execution_count": 2,
   "metadata": {
    "collapsed": true
   },
   "outputs": [],
   "source": [
    "data = inputfile.read()"
   ]
  },
  {
   "cell_type": "code",
   "execution_count": 3,
   "metadata": {
    "collapsed": false
   },
   "outputs": [
    {
     "data": {
      "text/plain": [
       "'>@unitig_1847|quiver\\nTGATAGACTGCTATAAACTGAGTCTAAATGACCAGGATGGAACACAAAGAGATGCAAAAT\\nGTCGGTAAAGTGACTGTA'"
      ]
     },
     "execution_count": 3,
     "metadata": {},
     "output_type": "execute_result"
    }
   ],
   "source": [
    "data[:100]"
   ]
  },
  {
   "cell_type": "code",
   "execution_count": 4,
   "metadata": {
    "collapsed": false
   },
   "outputs": [
    {
     "name": "stdout",
     "output_type": "stream",
     "text": [
      "43\n"
     ]
    }
   ],
   "source": [
    "count = 0\n",
    "inputfile = open('trimmed.fasta')\n",
    "for line in inputfile:\n",
    "    if line.startswith('>'):\n",
    "        count = count + 1\n",
    "print(count)"
   ]
  },
  {
   "cell_type": "code",
   "execution_count": 14,
   "metadata": {
    "collapsed": false
   },
   "outputs": [
    {
     "name": "stdout",
     "output_type": "stream",
     "text": [
      "42\n"
     ]
    }
   ],
   "source": [
    "count = 0\n",
    "buffer = ''\n",
    "inputfile = open('trimmed.fasta')\n",
    "index  = count + 1\n",
    "outputfile = open('outputfile{}.fasta'.format(index), 'w')\n",
    "for line in inputfile:\n",
    "    if line.startswith('>'):\n",
    "        if len(buffer) > 0:\n",
    "            outputfile.write(buffer)\n",
    "            outputfile.close()\n",
    "            index = count + 1\n",
    "            outputfile = open('outputfile{}.fasta'.format(index), 'w')\n",
    "            buffer = ''\n",
    "            count = count + 1\n",
    "    buffer += line\n",
    "outputfile.write(buffer)\n",
    "outputfile.close()\n",
    "print(count)"
   ]
  },
  {
   "cell_type": "code",
   "execution_count": 7,
   "metadata": {
    "collapsed": false
   },
   "outputs": [
    {
     "name": "stdout",
     "output_type": "stream",
     "text": [
      "my age is 16\n"
     ]
    }
   ],
   "source": [
    "template = \"my age is {}\"\n",
    "final_string = template.format(16)\n",
    "print(final_string)"
   ]
  },
  {
   "cell_type": "code",
   "execution_count": 8,
   "metadata": {
    "collapsed": false
   },
   "outputs": [
    {
     "name": "stdout",
     "output_type": "stream",
     "text": [
      "my name Peter and I work at SANBI\n",
      "my name Nicky and I work at CBIO\n"
     ]
    }
   ],
   "source": [
    "template = \"my name {} and I work at {}\"\n",
    "string1 = template.format('Peter', 'SANBI')\n",
    "string2 = template.format('Nicky', 'CBIO')\n",
    "print(string1)\n",
    "print(string2)"
   ]
  },
  {
   "cell_type": "code",
   "execution_count": null,
   "metadata": {
    "collapsed": true
   },
   "outputs": [],
   "source": []
  }
 ],
 "metadata": {
  "kernelspec": {
   "display_name": "Python 3",
   "language": "python",
   "name": "python3"
  },
  "language_info": {
   "codemirror_mode": {
    "name": "ipython",
    "version": 3
   },
   "file_extension": ".py",
   "mimetype": "text/x-python",
   "name": "python",
   "nbconvert_exporter": "python",
   "pygments_lexer": "ipython3",
   "version": "3.6.0"
  }
 },
 "nbformat": 4,
 "nbformat_minor": 2
}
